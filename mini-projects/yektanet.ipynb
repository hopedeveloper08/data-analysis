{
 "cells": [
  {
   "cell_type": "markdown",
   "id": "29f77ed1",
   "metadata": {},
   "source": [
    "# تحلیل بازدید وب سایت ها با داده های شرکت یکتانت"
   ]
  },
  {
   "cell_type": "code",
   "execution_count": 4,
   "id": "65ff8052",
   "metadata": {},
   "outputs": [],
   "source": [
    "import pandas as pd "
   ]
  },
  {
   "cell_type": "markdown",
   "id": "69a18adf",
   "metadata": {},
   "source": [
    "### خواندن داده ها"
   ]
  },
  {
   "cell_type": "code",
   "execution_count": 5,
   "id": "995dac76",
   "metadata": {},
   "outputs": [
    {
     "data": {
      "text/html": [
       "<div>\n",
       "<style scoped>\n",
       "    .dataframe tbody tr th:only-of-type {\n",
       "        vertical-align: middle;\n",
       "    }\n",
       "\n",
       "    .dataframe tbody tr th {\n",
       "        vertical-align: top;\n",
       "    }\n",
       "\n",
       "    .dataframe thead th {\n",
       "        text-align: right;\n",
       "    }\n",
       "</style>\n",
       "<table border=\"1\" class=\"dataframe\">\n",
       "  <thead>\n",
       "    <tr style=\"text-align: right;\">\n",
       "      <th></th>\n",
       "      <th>keywords</th>\n",
       "      <th>segments</th>\n",
       "      <th>visit count</th>\n",
       "    </tr>\n",
       "  </thead>\n",
       "  <tbody>\n",
       "    <tr>\n",
       "      <th>219614</th>\n",
       "      <td>['نتایج زنده', 'نتایج', 'زنده']</td>\n",
       "      <td>['maleSegment', 'varzeshi']</td>\n",
       "      <td>641</td>\n",
       "    </tr>\n",
       "    <tr>\n",
       "      <th>219615</th>\n",
       "      <td>['زیرنویس', 'فارسی فیلم', 'دانلود زیرنویس']</td>\n",
       "      <td>['femaleSegment']</td>\n",
       "      <td>355</td>\n",
       "    </tr>\n",
       "    <tr>\n",
       "      <th>219616</th>\n",
       "      <td>['سامان', 'ساعت']</td>\n",
       "      <td>['femaleSegment']</td>\n",
       "      <td>40</td>\n",
       "    </tr>\n",
       "    <tr>\n",
       "      <th>219617</th>\n",
       "      <td>['چشم', 'تنظیم', 'رنگ', 'نرم']</td>\n",
       "      <td>['technology']</td>\n",
       "      <td>523</td>\n",
       "    </tr>\n",
       "    <tr>\n",
       "      <th>219618</th>\n",
       "      <td>['خارجی', 'قوی', 'ایرانی خارجی', 'ایرانی']</td>\n",
       "      <td>['femaleSegment']</td>\n",
       "      <td>906</td>\n",
       "    </tr>\n",
       "  </tbody>\n",
       "</table>\n",
       "</div>"
      ],
      "text/plain": [
       "                                           keywords  \\\n",
       "219614              ['نتایج زنده', 'نتایج', 'زنده']   \n",
       "219615  ['زیرنویس', 'فارسی فیلم', 'دانلود زیرنویس']   \n",
       "219616                            ['سامان', 'ساعت']   \n",
       "219617               ['چشم', 'تنظیم', 'رنگ', 'نرم']   \n",
       "219618   ['خارجی', 'قوی', 'ایرانی خارجی', 'ایرانی']   \n",
       "\n",
       "                           segments  visit count  \n",
       "219614  ['maleSegment', 'varzeshi']          641  \n",
       "219615            ['femaleSegment']          355  \n",
       "219616            ['femaleSegment']           40  \n",
       "219617               ['technology']          523  \n",
       "219618            ['femaleSegment']          906  "
      ]
     },
     "execution_count": 5,
     "metadata": {},
     "output_type": "execute_result"
    }
   ],
   "source": [
    "df = pd.read_csv('../data/yektanet.csv')\n",
    "df.tail()"
   ]
  },
  {
   "cell_type": "markdown",
   "id": "c6e91872",
   "metadata": {},
   "source": [
    "### وب سایت هایی که کلید واژه آن ها بیش از 1400 وب سایت را شامل میشود"
   ]
  },
  {
   "cell_type": "code",
   "execution_count": 8,
   "id": "1f051715-851e-4865-b14f-dfe975ec0b2b",
   "metadata": {},
   "outputs": [
    {
     "data": {
      "text/html": [
       "<div>\n",
       "<style scoped>\n",
       "    .dataframe tbody tr th:only-of-type {\n",
       "        vertical-align: middle;\n",
       "    }\n",
       "\n",
       "    .dataframe tbody tr th {\n",
       "        vertical-align: top;\n",
       "    }\n",
       "\n",
       "    .dataframe thead th {\n",
       "        text-align: right;\n",
       "    }\n",
       "</style>\n",
       "<table border=\"1\" class=\"dataframe\">\n",
       "  <thead>\n",
       "    <tr style=\"text-align: right;\">\n",
       "      <th></th>\n",
       "      <th>keywords</th>\n",
       "      <th>segments</th>\n",
       "      <th>visit count</th>\n",
       "    </tr>\n",
       "  </thead>\n",
       "  <tbody>\n",
       "    <tr>\n",
       "      <th>1</th>\n",
       "      <td>['نتایج زنده', 'نتایج', 'زنده']</td>\n",
       "      <td>['maleSegment']</td>\n",
       "      <td>822</td>\n",
       "    </tr>\n",
       "    <tr>\n",
       "      <th>3</th>\n",
       "      <td>['نتایج زنده', 'نتایج', 'زنده']</td>\n",
       "      <td>['maleSegment']</td>\n",
       "      <td>307</td>\n",
       "    </tr>\n",
       "    <tr>\n",
       "      <th>4</th>\n",
       "      <td>['نتایج زنده', 'نتایج', 'زنده']</td>\n",
       "      <td>['maleSegment']</td>\n",
       "      <td>778</td>\n",
       "    </tr>\n",
       "    <tr>\n",
       "      <th>10</th>\n",
       "      <td>['نتایج زنده', 'نتایج', 'زنده']</td>\n",
       "      <td>['maleSegment', 'varzeshi']</td>\n",
       "      <td>418</td>\n",
       "    </tr>\n",
       "    <tr>\n",
       "      <th>16</th>\n",
       "      <td>['نتایج زنده', 'نتایج', 'زنده']</td>\n",
       "      <td>['maleSegment']</td>\n",
       "      <td>324</td>\n",
       "    </tr>\n",
       "  </tbody>\n",
       "</table>\n",
       "</div>"
      ],
      "text/plain": [
       "                           keywords                     segments  visit count\n",
       "1   ['نتایج زنده', 'نتایج', 'زنده']              ['maleSegment']          822\n",
       "3   ['نتایج زنده', 'نتایج', 'زنده']              ['maleSegment']          307\n",
       "4   ['نتایج زنده', 'نتایج', 'زنده']              ['maleSegment']          778\n",
       "10  ['نتایج زنده', 'نتایج', 'زنده']  ['maleSegment', 'varzeshi']          418\n",
       "16  ['نتایج زنده', 'نتایج', 'زنده']              ['maleSegment']          324"
      ]
     },
     "execution_count": 8,
     "metadata": {},
     "output_type": "execute_result"
    }
   ],
   "source": [
    "filtered_df = df.groupby('keywords').filter(lambda x: len(x) > 1400)\n",
    "filtered_df.head()"
   ]
  },
  {
   "cell_type": "markdown",
   "id": "b22647a9",
   "metadata": {},
   "source": [
    "### نسب بازدید های یک سایت به کل سایت های دارای یک کلید واژه"
   ]
  },
  {
   "cell_type": "code",
   "execution_count": 17,
   "id": "a7ccd820-70b9-4d19-ad6e-36fe65c8c16b",
   "metadata": {},
   "outputs": [
    {
     "data": {
      "text/html": [
       "<div>\n",
       "<style scoped>\n",
       "    .dataframe tbody tr th:only-of-type {\n",
       "        vertical-align: middle;\n",
       "    }\n",
       "\n",
       "    .dataframe tbody tr th {\n",
       "        vertical-align: top;\n",
       "    }\n",
       "\n",
       "    .dataframe thead th {\n",
       "        text-align: right;\n",
       "    }\n",
       "</style>\n",
       "<table border=\"1\" class=\"dataframe\">\n",
       "  <thead>\n",
       "    <tr style=\"text-align: right;\">\n",
       "      <th></th>\n",
       "      <th>keywords</th>\n",
       "      <th>segments</th>\n",
       "      <th>visit count</th>\n",
       "      <th>popularity</th>\n",
       "    </tr>\n",
       "  </thead>\n",
       "  <tbody>\n",
       "    <tr>\n",
       "      <th>60802</th>\n",
       "      <td>['نی', 'تبادل', 'نی سایت', 'نی نی', 'موضوعات']</td>\n",
       "      <td>['femaleSegment']</td>\n",
       "      <td>999</td>\n",
       "      <td>0.139847</td>\n",
       "    </tr>\n",
       "    <tr>\n",
       "      <th>113641</th>\n",
       "      <td>['نی', 'تبادل', 'نی سایت', 'نی نی', 'موضوعات']</td>\n",
       "      <td>['femaleSegment']</td>\n",
       "      <td>999</td>\n",
       "      <td>0.139847</td>\n",
       "    </tr>\n",
       "    <tr>\n",
       "      <th>138539</th>\n",
       "      <td>['نی', 'تبادل', 'نی سایت', 'نی نی', 'موضوعات']</td>\n",
       "      <td>['femaleSegment']</td>\n",
       "      <td>998</td>\n",
       "      <td>0.139707</td>\n",
       "    </tr>\n",
       "    <tr>\n",
       "      <th>41087</th>\n",
       "      <td>['نی', 'تبادل', 'نی سایت', 'نی نی', 'موضوعات']</td>\n",
       "      <td>['koodakvanozad', 'salamat', 'laghari']</td>\n",
       "      <td>998</td>\n",
       "      <td>0.139707</td>\n",
       "    </tr>\n",
       "    <tr>\n",
       "      <th>178736</th>\n",
       "      <td>['نی', 'تبادل', 'نی سایت', 'نی نی', 'موضوعات']</td>\n",
       "      <td>['koodakvanozad', 'salamat', 'laghari']</td>\n",
       "      <td>996</td>\n",
       "      <td>0.139427</td>\n",
       "    </tr>\n",
       "  </tbody>\n",
       "</table>\n",
       "</div>"
      ],
      "text/plain": [
       "                                              keywords  \\\n",
       "60802   ['نی', 'تبادل', 'نی سایت', 'نی نی', 'موضوعات']   \n",
       "113641  ['نی', 'تبادل', 'نی سایت', 'نی نی', 'موضوعات']   \n",
       "138539  ['نی', 'تبادل', 'نی سایت', 'نی نی', 'موضوعات']   \n",
       "41087   ['نی', 'تبادل', 'نی سایت', 'نی نی', 'موضوعات']   \n",
       "178736  ['نی', 'تبادل', 'نی سایت', 'نی نی', 'موضوعات']   \n",
       "\n",
       "                                       segments  visit count  popularity  \n",
       "60802                         ['femaleSegment']          999    0.139847  \n",
       "113641                        ['femaleSegment']          999    0.139847  \n",
       "138539                        ['femaleSegment']          998    0.139707  \n",
       "41087   ['koodakvanozad', 'salamat', 'laghari']          998    0.139707  \n",
       "178736  ['koodakvanozad', 'salamat', 'laghari']          996    0.139427  "
      ]
     },
     "execution_count": 17,
     "metadata": {},
     "output_type": "execute_result"
    }
   ],
   "source": [
    "filtered_df['popularity']  = filtered_df.groupby('keywords')['visit count'].transform(lambda x: x / x.sum() * 100)\n",
    "filtered_df.sort_values(by='popularity', ascending=False).head()"
   ]
  }
 ],
 "metadata": {
  "kernelspec": {
   "display_name": "Python 3",
   "language": "python",
   "name": "python3"
  },
  "language_info": {
   "codemirror_mode": {
    "name": "ipython",
    "version": 3
   },
   "file_extension": ".py",
   "mimetype": "text/x-python",
   "name": "python",
   "nbconvert_exporter": "python",
   "pygments_lexer": "ipython3",
   "version": "3.11.9"
  },
  "vscode": {
   "interpreter": {
    "hash": "44e7e1b8fa2096bd5707ed7fd18b1724a2db25f4c565a7673f8b6e7bfc49d25d"
   }
  }
 },
 "nbformat": 4,
 "nbformat_minor": 5
}
